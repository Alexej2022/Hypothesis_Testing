{
 "cells": [
  {
   "cell_type": "markdown",
   "metadata": {},
   "source": [
    "# Before you start:\n",
    "- Read the README.md file\n",
    "- Comment as much as you can and use the resources (README.md file)\n",
    "- Happy learning!"
   ]
  },
  {
   "cell_type": "code",
   "execution_count": 2,
   "metadata": {},
   "outputs": [],
   "source": [
    "# # Lab | Hypothesis Testing\n",
    "\n",
    "# ## Introduction\n",
    "\n",
    "# In this lab we'll familiarize you with one sample hypothesis tests. \n",
    "#You will also write Python code to conduct \n",
    "#one sample hypothesis tests as well as construct confidence intervals.\n",
    "\n",
    "# ## Deliverables\n",
    "# - `main.ipynb`.\n",
    "# ## Submission\n",
    "# Upon completion, add your deliverables to git. Then commit git and push your branch to the remote.\n",
    "# ## Resources\n",
    "# [T Test](http://b.link/test50)\n",
    "# [Hypothesis Tests in SciPy](http://b.link/scipy65)\n",
    "# [Standard Error in SciPy](http://b.link/scipy86)\n",
    "# [One Sample Tests of Proportions](http://b.link/categorical45)"
   ]
  },
  {
   "cell_type": "code",
   "execution_count": 3,
   "metadata": {},
   "outputs": [],
   "source": [
    "# import numpy and pandas\n",
    "import scipy.stats as st\n",
    "import numpy as np\n",
    "import pandas as pd"
   ]
  },
  {
   "cell_type": "markdown",
   "metadata": {},
   "source": [
    "# Challenge 1 - Exploring the Data\n",
    "\n",
    "In this challenge, we will examine all salaries of employees of the City of Chicago. We will start by loading the dataset and examining its contents. "
   ]
  },
  {
   "cell_type": "code",
   "execution_count": 4,
   "metadata": {},
   "outputs": [
    {
     "data": {
      "text/plain": [
       "(33702, 8)"
      ]
     },
     "metadata": {},
     "output_type": "display_data"
    },
    {
     "data": {
      "text/html": [
       "<div>\n",
       "<style scoped>\n",
       "    .dataframe tbody tr th:only-of-type {\n",
       "        vertical-align: middle;\n",
       "    }\n",
       "\n",
       "    .dataframe tbody tr th {\n",
       "        vertical-align: top;\n",
       "    }\n",
       "\n",
       "    .dataframe thead th {\n",
       "        text-align: right;\n",
       "    }\n",
       "</style>\n",
       "<table border=\"1\" class=\"dataframe\">\n",
       "  <thead>\n",
       "    <tr style=\"text-align: right;\">\n",
       "      <th></th>\n",
       "      <th>Name</th>\n",
       "      <th>Job Titles</th>\n",
       "      <th>Department</th>\n",
       "      <th>Full or Part-Time</th>\n",
       "      <th>Salary or Hourly</th>\n",
       "      <th>Typical Hours</th>\n",
       "      <th>Annual Salary</th>\n",
       "      <th>Hourly Rate</th>\n",
       "    </tr>\n",
       "  </thead>\n",
       "  <tbody>\n",
       "    <tr>\n",
       "      <th>0</th>\n",
       "      <td>ADRIANO,  RACQUEL ANNE</td>\n",
       "      <td>PARAMEDIC</td>\n",
       "      <td>FIRE</td>\n",
       "      <td>F</td>\n",
       "      <td>Salary</td>\n",
       "      <td>NaN</td>\n",
       "      <td>72510.0</td>\n",
       "      <td>NaN</td>\n",
       "    </tr>\n",
       "    <tr>\n",
       "      <th>1</th>\n",
       "      <td>AFFANEH,  MAHIR A</td>\n",
       "      <td>POLICE OFFICER</td>\n",
       "      <td>POLICE</td>\n",
       "      <td>F</td>\n",
       "      <td>Salary</td>\n",
       "      <td>NaN</td>\n",
       "      <td>93354.0</td>\n",
       "      <td>NaN</td>\n",
       "    </tr>\n",
       "    <tr>\n",
       "      <th>2</th>\n",
       "      <td>AFOENYI,  PHYLLIS</td>\n",
       "      <td>TITLE V PROGRAM TRAINEE I</td>\n",
       "      <td>FAMILY &amp; SUPPORT</td>\n",
       "      <td>P</td>\n",
       "      <td>Hourly</td>\n",
       "      <td>20.0</td>\n",
       "      <td>NaN</td>\n",
       "      <td>13.0</td>\n",
       "    </tr>\n",
       "    <tr>\n",
       "      <th>3</th>\n",
       "      <td>AGAR,  BULENT B</td>\n",
       "      <td>DEPUTY COMMISSIONER</td>\n",
       "      <td>WATER MGMNT</td>\n",
       "      <td>F</td>\n",
       "      <td>Salary</td>\n",
       "      <td>NaN</td>\n",
       "      <td>132972.0</td>\n",
       "      <td>NaN</td>\n",
       "    </tr>\n",
       "    <tr>\n",
       "      <th>4</th>\n",
       "      <td>AGEE,  LAWRENCE</td>\n",
       "      <td>POLICE OFFICER</td>\n",
       "      <td>POLICE</td>\n",
       "      <td>F</td>\n",
       "      <td>Salary</td>\n",
       "      <td>NaN</td>\n",
       "      <td>90024.0</td>\n",
       "      <td>NaN</td>\n",
       "    </tr>\n",
       "  </tbody>\n",
       "</table>\n",
       "</div>"
      ],
      "text/plain": [
       "                     Name                 Job Titles        Department  \\\n",
       "0  ADRIANO,  RACQUEL ANNE                  PARAMEDIC              FIRE   \n",
       "1       AFFANEH,  MAHIR A             POLICE OFFICER            POLICE   \n",
       "2       AFOENYI,  PHYLLIS  TITLE V PROGRAM TRAINEE I  FAMILY & SUPPORT   \n",
       "3         AGAR,  BULENT B        DEPUTY COMMISSIONER       WATER MGMNT   \n",
       "4         AGEE,  LAWRENCE             POLICE OFFICER            POLICE   \n",
       "\n",
       "  Full or Part-Time Salary or Hourly  Typical Hours  Annual Salary  \\\n",
       "0                 F           Salary            NaN        72510.0   \n",
       "1                 F           Salary            NaN        93354.0   \n",
       "2                 P           Hourly           20.0            NaN   \n",
       "3                 F           Salary            NaN       132972.0   \n",
       "4                 F           Salary            NaN        90024.0   \n",
       "\n",
       "   Hourly Rate  \n",
       "0          NaN  \n",
       "1          NaN  \n",
       "2         13.0  \n",
       "3          NaN  \n",
       "4          NaN  "
      ]
     },
     "execution_count": 4,
     "metadata": {},
     "output_type": "execute_result"
    }
   ],
   "source": [
    "# Your code here:\n",
    "data = pd.read_csv('Current_Employee_Names__Salaries__and_Position_Titles.csv')\n",
    "display(data.shape)\n",
    "data.head()"
   ]
  },
  {
   "cell_type": "markdown",
   "metadata": {},
   "source": [
    "Examine the `salaries` dataset using the `head` function below."
   ]
  },
  {
   "cell_type": "code",
   "execution_count": 5,
   "metadata": {},
   "outputs": [
    {
     "data": {
      "text/html": [
       "<div>\n",
       "<style scoped>\n",
       "    .dataframe tbody tr th:only-of-type {\n",
       "        vertical-align: middle;\n",
       "    }\n",
       "\n",
       "    .dataframe tbody tr th {\n",
       "        vertical-align: top;\n",
       "    }\n",
       "\n",
       "    .dataframe thead th {\n",
       "        text-align: right;\n",
       "    }\n",
       "</style>\n",
       "<table border=\"1\" class=\"dataframe\">\n",
       "  <thead>\n",
       "    <tr style=\"text-align: right;\">\n",
       "      <th></th>\n",
       "      <th>Name</th>\n",
       "      <th>Job Titles</th>\n",
       "      <th>Department</th>\n",
       "      <th>Full or Part-Time</th>\n",
       "      <th>Salary or Hourly</th>\n",
       "      <th>Typical Hours</th>\n",
       "      <th>Annual Salary</th>\n",
       "      <th>Hourly Rate</th>\n",
       "    </tr>\n",
       "  </thead>\n",
       "  <tbody>\n",
       "    <tr>\n",
       "      <th>0</th>\n",
       "      <td>ADRIANO,  RACQUEL ANNE</td>\n",
       "      <td>PARAMEDIC</td>\n",
       "      <td>FIRE</td>\n",
       "      <td>F</td>\n",
       "      <td>Salary</td>\n",
       "      <td>NaN</td>\n",
       "      <td>72510.0</td>\n",
       "      <td>NaN</td>\n",
       "    </tr>\n",
       "    <tr>\n",
       "      <th>1</th>\n",
       "      <td>AFFANEH,  MAHIR A</td>\n",
       "      <td>POLICE OFFICER</td>\n",
       "      <td>POLICE</td>\n",
       "      <td>F</td>\n",
       "      <td>Salary</td>\n",
       "      <td>NaN</td>\n",
       "      <td>93354.0</td>\n",
       "      <td>NaN</td>\n",
       "    </tr>\n",
       "    <tr>\n",
       "      <th>2</th>\n",
       "      <td>AFOENYI,  PHYLLIS</td>\n",
       "      <td>TITLE V PROGRAM TRAINEE I</td>\n",
       "      <td>FAMILY &amp; SUPPORT</td>\n",
       "      <td>P</td>\n",
       "      <td>Hourly</td>\n",
       "      <td>20.0</td>\n",
       "      <td>NaN</td>\n",
       "      <td>13.0</td>\n",
       "    </tr>\n",
       "    <tr>\n",
       "      <th>3</th>\n",
       "      <td>AGAR,  BULENT B</td>\n",
       "      <td>DEPUTY COMMISSIONER</td>\n",
       "      <td>WATER MGMNT</td>\n",
       "      <td>F</td>\n",
       "      <td>Salary</td>\n",
       "      <td>NaN</td>\n",
       "      <td>132972.0</td>\n",
       "      <td>NaN</td>\n",
       "    </tr>\n",
       "    <tr>\n",
       "      <th>4</th>\n",
       "      <td>AGEE,  LAWRENCE</td>\n",
       "      <td>POLICE OFFICER</td>\n",
       "      <td>POLICE</td>\n",
       "      <td>F</td>\n",
       "      <td>Salary</td>\n",
       "      <td>NaN</td>\n",
       "      <td>90024.0</td>\n",
       "      <td>NaN</td>\n",
       "    </tr>\n",
       "  </tbody>\n",
       "</table>\n",
       "</div>"
      ],
      "text/plain": [
       "                     Name                 Job Titles        Department  \\\n",
       "0  ADRIANO,  RACQUEL ANNE                  PARAMEDIC              FIRE   \n",
       "1       AFFANEH,  MAHIR A             POLICE OFFICER            POLICE   \n",
       "2       AFOENYI,  PHYLLIS  TITLE V PROGRAM TRAINEE I  FAMILY & SUPPORT   \n",
       "3         AGAR,  BULENT B        DEPUTY COMMISSIONER       WATER MGMNT   \n",
       "4         AGEE,  LAWRENCE             POLICE OFFICER            POLICE   \n",
       "\n",
       "  Full or Part-Time Salary or Hourly  Typical Hours  Annual Salary  \\\n",
       "0                 F           Salary            NaN        72510.0   \n",
       "1                 F           Salary            NaN        93354.0   \n",
       "2                 P           Hourly           20.0            NaN   \n",
       "3                 F           Salary            NaN       132972.0   \n",
       "4                 F           Salary            NaN        90024.0   \n",
       "\n",
       "   Hourly Rate  \n",
       "0          NaN  \n",
       "1          NaN  \n",
       "2         13.0  \n",
       "3          NaN  \n",
       "4          NaN  "
      ]
     },
     "execution_count": 5,
     "metadata": {},
     "output_type": "execute_result"
    }
   ],
   "source": [
    "# # Your code here:\n",
    "# The head function in Python displays the first \n",
    "#five rows of the dataframe by default. It takes \n",
    "#in a single parameter: the number of rows. \n",
    "#We can use this parameter to display the number of rows of our choice.\n",
    "data.head(5)"
   ]
  },
  {
   "cell_type": "markdown",
   "metadata": {},
   "source": [
    "We see from looking at the `head` function that there is quite a bit of missing data. Let's examine how much missing data is in each column. Produce this output in the cell below"
   ]
  },
  {
   "cell_type": "code",
   "execution_count": 7,
   "metadata": {},
   "outputs": [
    {
     "data": {
      "text/plain": [
       "Name                 0.000000\n",
       "Job Titles           0.000000\n",
       "Department           0.000000\n",
       "Full or Part-Time    0.000000\n",
       "Salary or Hourly     0.000000\n",
       "Typical Hours        0.757462\n",
       "Annual Salary        0.242538\n",
       "Hourly Rate          0.757462\n",
       "dtype: float64"
      ]
     },
     "execution_count": 7,
     "metadata": {},
     "output_type": "execute_result"
    }
   ],
   "source": [
    "# Your code here:\n",
    "data.isna().sum()/len(data)\n"
   ]
  },
  {
   "cell_type": "markdown",
   "metadata": {},
   "source": [
    "Let's also look at the count of hourly vs. salaried employees. Write the code in the cell below"
   ]
  },
  {
   "cell_type": "code",
   "execution_count": 9,
   "metadata": {},
   "outputs": [
    {
     "data": {
      "text/plain": [
       "Salary    25528\n",
       "Hourly     8174\n",
       "Name: Salary or Hourly, dtype: int64"
      ]
     },
     "metadata": {},
     "output_type": "display_data"
    }
   ],
   "source": [
    "# Your code here:\n",
    "display(data['Salary or Hourly'].value_counts(dropna=False))\n"
   ]
  },
  {
   "cell_type": "code",
   "execution_count": 10,
   "metadata": {},
   "outputs": [
    {
     "data": {
      "text/plain": [
       "NaN      25528\n",
       "37.45     1495\n",
       "43.72      779\n",
       "38.52      528\n",
       "19.86      345\n",
       "         ...  \n",
       "33.00        1\n",
       "52.43        1\n",
       "26.90        1\n",
       "21.84        1\n",
       "37.69        1\n",
       "Name: Hourly Rate, Length: 179, dtype: int64"
      ]
     },
     "metadata": {},
     "output_type": "display_data"
    }
   ],
   "source": [
    "display(data['Hourly Rate'].value_counts(dropna=False))"
   ]
  },
  {
   "cell_type": "markdown",
   "metadata": {},
   "source": [
    "What this information indicates is that the table contains information about two types of employees - salaried and hourly. Some columns apply only to one type of employee while other columns only apply to another kind. This is why there are so many missing values. Therefore, we will not do anything to handle the missing values."
   ]
  },
  {
   "cell_type": "markdown",
   "metadata": {},
   "source": [
    "There are different departments in the city. List all departments and the count of employees in each department."
   ]
  },
  {
   "cell_type": "code",
   "execution_count": 12,
   "metadata": {},
   "outputs": [
    {
     "data": {
      "text/html": [
       "<div>\n",
       "<style scoped>\n",
       "    .dataframe tbody tr th:only-of-type {\n",
       "        vertical-align: middle;\n",
       "    }\n",
       "\n",
       "    .dataframe tbody tr th {\n",
       "        vertical-align: top;\n",
       "    }\n",
       "\n",
       "    .dataframe thead th {\n",
       "        text-align: right;\n",
       "    }\n",
       "</style>\n",
       "<table border=\"1\" class=\"dataframe\">\n",
       "  <thead>\n",
       "    <tr style=\"text-align: right;\">\n",
       "      <th></th>\n",
       "      <th>Job Titles</th>\n",
       "    </tr>\n",
       "    <tr>\n",
       "      <th>Department</th>\n",
       "      <th></th>\n",
       "    </tr>\n",
       "  </thead>\n",
       "  <tbody>\n",
       "    <tr>\n",
       "      <th>ADMIN HEARNG</th>\n",
       "      <td>CUSTOMER ACCOUNT REPRESENTATIVEMANAGER OF ADMI...</td>\n",
       "    </tr>\n",
       "    <tr>\n",
       "      <th>ANIMAL CONTRL</th>\n",
       "      <td>ANIMAL CARE AIDE IANIMAL CONTROL OFFICERANIMAL...</td>\n",
       "    </tr>\n",
       "    <tr>\n",
       "      <th>AVIATION</th>\n",
       "      <td>MOTOR TRUCK DRIVERMOTOR TRUCK DRIVERELECTRICAL...</td>\n",
       "    </tr>\n",
       "    <tr>\n",
       "      <th>BOARD OF ELECTION</th>\n",
       "      <td>PRINCIPAL CLERK-ELECTIONSSENIOR CLERK-ELECTION...</td>\n",
       "    </tr>\n",
       "    <tr>\n",
       "      <th>BOARD OF ETHICS</th>\n",
       "      <td>EXECUTIVE DIR - BOARD OF ETHICSSTAFF ASSTINVES...</td>\n",
       "    </tr>\n",
       "    <tr>\n",
       "      <th>BUDGET &amp; MGMT</th>\n",
       "      <td>SENIOR BUDGET ANALYSTSENIOR BUDGET ANALYSTDIR ...</td>\n",
       "    </tr>\n",
       "    <tr>\n",
       "      <th>BUILDINGS</th>\n",
       "      <td>VENTILATION AND FURNACE INSPECTORBUILDING/CONS...</td>\n",
       "    </tr>\n",
       "    <tr>\n",
       "      <th>BUSINESS AFFAIRS</th>\n",
       "      <td>SENIOR PUBLIC INFORMATION OFFICERADMINISTRATIV...</td>\n",
       "    </tr>\n",
       "    <tr>\n",
       "      <th>CITY CLERK</th>\n",
       "      <td>EDITORIAL ASSTPAYMENT SERVICES REPRESENTATIVEW...</td>\n",
       "    </tr>\n",
       "    <tr>\n",
       "      <th>CITY COUNCIL</th>\n",
       "      <td>ALDERMANIC AIDELEGISLATIVE AIDEALDERMANIC AIDE...</td>\n",
       "    </tr>\n",
       "    <tr>\n",
       "      <th>COPA</th>\n",
       "      <td>INVESTIGATOR-COPADIR OF ADMINISTRATIVE SERVICE...</td>\n",
       "    </tr>\n",
       "    <tr>\n",
       "      <th>CULTURAL AFFAIRS</th>\n",
       "      <td>SPECIAL EVENTS COORD IIIDEPUTY DIRCHIEF REVENU...</td>\n",
       "    </tr>\n",
       "    <tr>\n",
       "      <th>DAIS</th>\n",
       "      <td>CHIEF CONTRACT EXPEDITERELECTRICAL MECHANIC (A...</td>\n",
       "    </tr>\n",
       "    <tr>\n",
       "      <th>DISABILITIES</th>\n",
       "      <td>DEPUTY COMMISSIONERDISABILITY SPECIALIST IIADM...</td>\n",
       "    </tr>\n",
       "    <tr>\n",
       "      <th>FAMILY &amp; SUPPORT</th>\n",
       "      <td>TITLE V PROGRAM TRAINEE IFOSTER GRANDPARENTSEN...</td>\n",
       "    </tr>\n",
       "    <tr>\n",
       "      <th>FINANCE</th>\n",
       "      <td>ACCOUNTING TECHNICIAN IIBOOTER - PARKINGACCOUN...</td>\n",
       "    </tr>\n",
       "    <tr>\n",
       "      <th>FIRE</th>\n",
       "      <td>PARAMEDICFIREFIGHTER (PER ARBITRATORS AWARD)-E...</td>\n",
       "    </tr>\n",
       "    <tr>\n",
       "      <th>HEALTH</th>\n",
       "      <td>PERSONAL COMPUTER OPERATOR IIISENIOR ENVIRONME...</td>\n",
       "    </tr>\n",
       "    <tr>\n",
       "      <th>HOUSING</th>\n",
       "      <td>PROGRAM AUDITOR IISUPERVISING PROGRAM AUDITORL...</td>\n",
       "    </tr>\n",
       "    <tr>\n",
       "      <th>HOUSING &amp; ECON DEV</th>\n",
       "      <td>SENIOR RESEARCH ANALYSTADMINISTRATIVE ASST III...</td>\n",
       "    </tr>\n",
       "    <tr>\n",
       "      <th>HUMAN RELATIONS</th>\n",
       "      <td>ADMINISTRATIVE SERVICES OFFICER II EXCLDHUMAN ...</td>\n",
       "    </tr>\n",
       "    <tr>\n",
       "      <th>HUMAN RESOURCES</th>\n",
       "      <td>EEO INVESTIGATORTESTING SPECIALISTRECRUITERTES...</td>\n",
       "    </tr>\n",
       "    <tr>\n",
       "      <th>INSPECTOR GEN</th>\n",
       "      <td>PERFORMANCE ANALYSTCOMPLIANCE OFFICERINVESTIGA...</td>\n",
       "    </tr>\n",
       "    <tr>\n",
       "      <th>LAW</th>\n",
       "      <td>ADMINISTRATIVE DEPUTYASST CORPORATION COUNSEL ...</td>\n",
       "    </tr>\n",
       "    <tr>\n",
       "      <th>LICENSE APPL COMM</th>\n",
       "      <td>STAFF ASST</td>\n",
       "    </tr>\n",
       "    <tr>\n",
       "      <th>MAYOR'S OFFICE</th>\n",
       "      <td>LEGISLATIVE ASSTCHIEF FINANCIAL OFFICERLEGISLA...</td>\n",
       "    </tr>\n",
       "    <tr>\n",
       "      <th>OEMC</th>\n",
       "      <td>TRAFFIC CONTROL AIDE-HOURLYSUPERINTENDENT OF S...</td>\n",
       "    </tr>\n",
       "    <tr>\n",
       "      <th>POLICE</th>\n",
       "      <td>POLICE OFFICERPOLICE OFFICERSERGEANTPOLICE OFF...</td>\n",
       "    </tr>\n",
       "    <tr>\n",
       "      <th>POLICE BOARD</th>\n",
       "      <td>SUPERVISING CLERKEXECUTIVE DIR - POLICE BOARD</td>\n",
       "    </tr>\n",
       "    <tr>\n",
       "      <th>PROCUREMENT</th>\n",
       "      <td>SR PROCUREMENT SPECIALISTASST TO THE COMMISSIO...</td>\n",
       "    </tr>\n",
       "    <tr>\n",
       "      <th>PUBLIC LIBRARY</th>\n",
       "      <td>LIBRARY ASSOCIATELIBRARIAN IVLIBRARY PAGELIBRA...</td>\n",
       "    </tr>\n",
       "    <tr>\n",
       "      <th>PUBLIC SAFETY ADMIN</th>\n",
       "      <td>ADMINISTRATIVE ASST IIIMANAGER OF POLICE PAYRO...</td>\n",
       "    </tr>\n",
       "    <tr>\n",
       "      <th>STREETS &amp; SAN</th>\n",
       "      <td>SANITATION LABORERSANITATION LABORERSANITATION...</td>\n",
       "    </tr>\n",
       "    <tr>\n",
       "      <th>TRANSPORTN</th>\n",
       "      <td>BRIDGE OPERATORTRAFFIC ENGINEER IVTRAFFIC SIGN...</td>\n",
       "    </tr>\n",
       "    <tr>\n",
       "      <th>TREASURER</th>\n",
       "      <td>PORTFOLIO MANAGERSTAFF ASSTPORTFOLIO MANAGERAS...</td>\n",
       "    </tr>\n",
       "    <tr>\n",
       "      <th>WATER MGMNT</th>\n",
       "      <td>DEPUTY COMMISSIONERLABORER - APPRENTICECIVIL E...</td>\n",
       "    </tr>\n",
       "  </tbody>\n",
       "</table>\n",
       "</div>"
      ],
      "text/plain": [
       "                                                            Job Titles\n",
       "Department                                                            \n",
       "ADMIN HEARNG         CUSTOMER ACCOUNT REPRESENTATIVEMANAGER OF ADMI...\n",
       "ANIMAL CONTRL        ANIMAL CARE AIDE IANIMAL CONTROL OFFICERANIMAL...\n",
       "AVIATION             MOTOR TRUCK DRIVERMOTOR TRUCK DRIVERELECTRICAL...\n",
       "BOARD OF ELECTION    PRINCIPAL CLERK-ELECTIONSSENIOR CLERK-ELECTION...\n",
       "BOARD OF ETHICS      EXECUTIVE DIR - BOARD OF ETHICSSTAFF ASSTINVES...\n",
       "BUDGET & MGMT        SENIOR BUDGET ANALYSTSENIOR BUDGET ANALYSTDIR ...\n",
       "BUILDINGS            VENTILATION AND FURNACE INSPECTORBUILDING/CONS...\n",
       "BUSINESS AFFAIRS     SENIOR PUBLIC INFORMATION OFFICERADMINISTRATIV...\n",
       "CITY CLERK           EDITORIAL ASSTPAYMENT SERVICES REPRESENTATIVEW...\n",
       "CITY COUNCIL         ALDERMANIC AIDELEGISLATIVE AIDEALDERMANIC AIDE...\n",
       "COPA                 INVESTIGATOR-COPADIR OF ADMINISTRATIVE SERVICE...\n",
       "CULTURAL AFFAIRS     SPECIAL EVENTS COORD IIIDEPUTY DIRCHIEF REVENU...\n",
       "DAIS                 CHIEF CONTRACT EXPEDITERELECTRICAL MECHANIC (A...\n",
       "DISABILITIES         DEPUTY COMMISSIONERDISABILITY SPECIALIST IIADM...\n",
       "FAMILY & SUPPORT     TITLE V PROGRAM TRAINEE IFOSTER GRANDPARENTSEN...\n",
       "FINANCE              ACCOUNTING TECHNICIAN IIBOOTER - PARKINGACCOUN...\n",
       "FIRE                 PARAMEDICFIREFIGHTER (PER ARBITRATORS AWARD)-E...\n",
       "HEALTH               PERSONAL COMPUTER OPERATOR IIISENIOR ENVIRONME...\n",
       "HOUSING              PROGRAM AUDITOR IISUPERVISING PROGRAM AUDITORL...\n",
       "HOUSING & ECON DEV   SENIOR RESEARCH ANALYSTADMINISTRATIVE ASST III...\n",
       "HUMAN RELATIONS      ADMINISTRATIVE SERVICES OFFICER II EXCLDHUMAN ...\n",
       "HUMAN RESOURCES      EEO INVESTIGATORTESTING SPECIALISTRECRUITERTES...\n",
       "INSPECTOR GEN        PERFORMANCE ANALYSTCOMPLIANCE OFFICERINVESTIGA...\n",
       "LAW                  ADMINISTRATIVE DEPUTYASST CORPORATION COUNSEL ...\n",
       "LICENSE APPL COMM                                           STAFF ASST\n",
       "MAYOR'S OFFICE       LEGISLATIVE ASSTCHIEF FINANCIAL OFFICERLEGISLA...\n",
       "OEMC                 TRAFFIC CONTROL AIDE-HOURLYSUPERINTENDENT OF S...\n",
       "POLICE               POLICE OFFICERPOLICE OFFICERSERGEANTPOLICE OFF...\n",
       "POLICE BOARD             SUPERVISING CLERKEXECUTIVE DIR - POLICE BOARD\n",
       "PROCUREMENT          SR PROCUREMENT SPECIALISTASST TO THE COMMISSIO...\n",
       "PUBLIC LIBRARY       LIBRARY ASSOCIATELIBRARIAN IVLIBRARY PAGELIBRA...\n",
       "PUBLIC SAFETY ADMIN  ADMINISTRATIVE ASST IIIMANAGER OF POLICE PAYRO...\n",
       "STREETS & SAN        SANITATION LABORERSANITATION LABORERSANITATION...\n",
       "TRANSPORTN           BRIDGE OPERATORTRAFFIC ENGINEER IVTRAFFIC SIGN...\n",
       "TREASURER            PORTFOLIO MANAGERSTAFF ASSTPORTFOLIO MANAGERAS...\n",
       "WATER MGMNT          DEPUTY COMMISSIONERLABORER - APPRENTICECIVIL E..."
      ]
     },
     "execution_count": 12,
     "metadata": {},
     "output_type": "execute_result"
    }
   ],
   "source": [
    "# # Your code here:\n",
    "#  List all departments \n",
    "#     count of employees \n",
    "#     in each department.\n",
    "all_dept = data.groupby(['Department']).agg({'Job Titles':sum})\n",
    "all_dept\n"
   ]
  },
  {
   "cell_type": "code",
   "execution_count": 19,
   "metadata": {},
   "outputs": [
    {
     "ename": "NameError",
     "evalue": "name 'count' is not defined",
     "output_type": "error",
     "traceback": [
      "\u001b[1;31m---------------------------------------------------------------------------\u001b[0m",
      "\u001b[1;31mNameError\u001b[0m                                 Traceback (most recent call last)",
      "\u001b[1;32m~\\AppData\\Local\\Temp\\ipykernel_14112\\3380683187.py\u001b[0m in \u001b[0;36m<module>\u001b[1;34m\u001b[0m\n\u001b[0;32m      3\u001b[0m \u001b[1;31m#     count of employees\u001b[0m\u001b[1;33m\u001b[0m\u001b[1;33m\u001b[0m\u001b[0m\n\u001b[0;32m      4\u001b[0m \u001b[1;31m#     in each department.\u001b[0m\u001b[1;33m\u001b[0m\u001b[1;33m\u001b[0m\u001b[0m\n\u001b[1;32m----> 5\u001b[1;33m \u001b[0mcount\u001b[0m\u001b[1;33m(\u001b[0m\u001b[1;34m'Department'\u001b[0m\u001b[1;33m,\u001b[0m\u001b[1;34m'Job Titles'\u001b[0m\u001b[1;33m)\u001b[0m\u001b[1;33m\u001b[0m\u001b[1;33m\u001b[0m\u001b[0m\n\u001b[0m",
      "\u001b[1;31mNameError\u001b[0m: name 'count' is not defined"
     ]
    }
   ],
   "source": [
    "# # Your code here:\n",
    "#  List all departments \n",
    "#     count of employees \n",
    "#     in each department.\n",
    "count('Department','Job Titles')"
   ]
  },
  {
   "cell_type": "code",
   "execution_count": 21,
   "metadata": {},
   "outputs": [
    {
     "name": "stdout",
     "output_type": "stream",
     "text": [
      "Department\n",
      "ADMIN HEARNG              38\n",
      "ANIMAL CONTRL             75\n",
      "AVIATION                1856\n",
      "BOARD OF ELECTION        111\n",
      "BOARD OF ETHICS            8\n",
      "BUDGET & MGMT             44\n",
      "BUILDINGS                258\n",
      "BUSINESS AFFAIRS         167\n",
      "CITY CLERK                88\n",
      "CITY COUNCIL             362\n",
      "COPA                     123\n",
      "CULTURAL AFFAIRS          74\n",
      "DAIS                    1033\n",
      "DISABILITIES              28\n",
      "FAMILY & SUPPORT         656\n",
      "FINANCE                  544\n",
      "FIRE                    4627\n",
      "HEALTH                   467\n",
      "HOUSING                   66\n",
      "HOUSING & ECON DEV       154\n",
      "HUMAN RELATIONS           17\n",
      "HUMAN RESOURCES           75\n",
      "INSPECTOR GEN             95\n",
      "LAW                      398\n",
      "LICENSE APPL COMM          1\n",
      "MAYOR'S OFFICE           104\n",
      "OEMC                    1737\n",
      "POLICE                 13848\n",
      "POLICE BOARD               2\n",
      "PROCUREMENT               84\n",
      "PUBLIC LIBRARY          1088\n",
      "PUBLIC SAFETY ADMIN      244\n",
      "STREETS & SAN           2175\n",
      "TRANSPORTN              1113\n",
      "TREASURER                 28\n",
      "WATER MGMNT             1914\n",
      "Name: Department, dtype: int64\n"
     ]
    }
   ],
   "source": [
    "data1 =  data.groupby('Department')['Department'].count()\n",
    "print(data1)"
   ]
  },
  {
   "cell_type": "code",
   "execution_count": 22,
   "metadata": {},
   "outputs": [
    {
     "ename": "SyntaxError",
     "evalue": "invalid syntax (3839757739.py, line 1)",
     "output_type": "error",
     "traceback": [
      "\u001b[1;36m  File \u001b[1;32m\"C:\\Users\\it-it\\AppData\\Local\\Temp\\ipykernel_14112\\3839757739.py\"\u001b[1;36m, line \u001b[1;32m1\u001b[0m\n\u001b[1;33m    Department_Job Titel_Count =  data.groupby(['Department','Job Titel'],as_index=False).Job Titel.sum()\u001b[0m\n\u001b[1;37m                   ^\u001b[0m\n\u001b[1;31mSyntaxError\u001b[0m\u001b[1;31m:\u001b[0m invalid syntax\n"
     ]
    }
   ],
   "source": [
    "# import pandas as pd\n",
    "# df1 = pd.DataFrame({'name': ['Anastasia', 'Dima', 'Katherine', 'James', 'Emily', 'Michael', 'Matthew', 'Laura', 'Kevin', 'Jonas'],\n",
    "# 'city': ['California', 'Los Angeles', 'California', 'California', 'California', 'Los Angeles', 'Los Angeles', 'Georgia', 'Georgia', 'Los Angeles']})\n",
    "# g1 = df1.groupby([\"city\"]).size().reset_index(name='Number of people')\n",
    "# print(g1)"
   ]
  },
  {
   "cell_type": "markdown",
   "metadata": {},
   "source": [
    "# Challenge 2 - Hypothesis Tests\n",
    "\n",
    "In this section of the lab, we will test whether the hourly wage of all hourly workers is significantly different from $30/hr. Import the correct one sample test function from scipy and perform the hypothesis test for a 95% two sided confidence interval."
   ]
  },
  {
   "cell_type": "code",
   "execution_count": 23,
   "metadata": {},
   "outputs": [
    {
     "data": {
      "text/html": [
       "<div>\n",
       "<style scoped>\n",
       "    .dataframe tbody tr th:only-of-type {\n",
       "        vertical-align: middle;\n",
       "    }\n",
       "\n",
       "    .dataframe tbody tr th {\n",
       "        vertical-align: top;\n",
       "    }\n",
       "\n",
       "    .dataframe thead th {\n",
       "        text-align: right;\n",
       "    }\n",
       "</style>\n",
       "<table border=\"1\" class=\"dataframe\">\n",
       "  <thead>\n",
       "    <tr style=\"text-align: right;\">\n",
       "      <th>Hourly Rate</th>\n",
       "      <th>2.65</th>\n",
       "      <th>8.25</th>\n",
       "      <th>9.74</th>\n",
       "      <th>10.0</th>\n",
       "      <th>10.5</th>\n",
       "      <th>12.0</th>\n",
       "      <th>13.0</th>\n",
       "      <th>13.4</th>\n",
       "      <th>13.45</th>\n",
       "      <th>13.94</th>\n",
       "      <th>...</th>\n",
       "      <th>53.4</th>\n",
       "      <th>53.91</th>\n",
       "      <th>54.05</th>\n",
       "      <th>54.1</th>\n",
       "      <th>55.1</th>\n",
       "      <th>57.04</th>\n",
       "      <th>58.4</th>\n",
       "      <th>61.65</th>\n",
       "      <th>128.0</th>\n",
       "      <th>All</th>\n",
       "    </tr>\n",
       "    <tr>\n",
       "      <th>Department</th>\n",
       "      <th></th>\n",
       "      <th></th>\n",
       "      <th></th>\n",
       "      <th></th>\n",
       "      <th></th>\n",
       "      <th></th>\n",
       "      <th></th>\n",
       "      <th></th>\n",
       "      <th></th>\n",
       "      <th></th>\n",
       "      <th></th>\n",
       "      <th></th>\n",
       "      <th></th>\n",
       "      <th></th>\n",
       "      <th></th>\n",
       "      <th></th>\n",
       "      <th></th>\n",
       "      <th></th>\n",
       "      <th></th>\n",
       "      <th></th>\n",
       "      <th></th>\n",
       "    </tr>\n",
       "  </thead>\n",
       "  <tbody>\n",
       "    <tr>\n",
       "      <th>All</th>\n",
       "      <td>260</td>\n",
       "      <td>4</td>\n",
       "      <td>2</td>\n",
       "      <td>2</td>\n",
       "      <td>1</td>\n",
       "      <td>16</td>\n",
       "      <td>62</td>\n",
       "      <td>107</td>\n",
       "      <td>1</td>\n",
       "      <td>49</td>\n",
       "      <td>...</td>\n",
       "      <td>48</td>\n",
       "      <td>1</td>\n",
       "      <td>30</td>\n",
       "      <td>24</td>\n",
       "      <td>12</td>\n",
       "      <td>68</td>\n",
       "      <td>10</td>\n",
       "      <td>1</td>\n",
       "      <td>1</td>\n",
       "      <td>8174</td>\n",
       "    </tr>\n",
       "    <tr>\n",
       "      <th>STREETS &amp; SAN</th>\n",
       "      <td>0</td>\n",
       "      <td>0</td>\n",
       "      <td>0</td>\n",
       "      <td>0</td>\n",
       "      <td>0</td>\n",
       "      <td>0</td>\n",
       "      <td>0</td>\n",
       "      <td>0</td>\n",
       "      <td>0</td>\n",
       "      <td>0</td>\n",
       "      <td>...</td>\n",
       "      <td>0</td>\n",
       "      <td>0</td>\n",
       "      <td>0</td>\n",
       "      <td>0</td>\n",
       "      <td>3</td>\n",
       "      <td>0</td>\n",
       "      <td>0</td>\n",
       "      <td>0</td>\n",
       "      <td>0</td>\n",
       "      <td>1846</td>\n",
       "    </tr>\n",
       "  </tbody>\n",
       "</table>\n",
       "<p>2 rows × 179 columns</p>\n",
       "</div>"
      ],
      "text/plain": [
       "Hourly Rate    2.65  8.25  9.74  10.0  10.5  12.0  13.0  13.4  13.45  13.94  \\\n",
       "Department                                                                    \n",
       "All             260     4     2     2     1    16    62   107      1     49   \n",
       "STREETS & SAN     0     0     0     0     0     0     0     0      0      0   \n",
       "\n",
       "Hourly Rate    ...  53.4  53.91  54.05  54.1  55.1  57.04  58.4  61.65  128.0  \\\n",
       "Department     ...                                                              \n",
       "All            ...    48      1     30    24    12     68    10      1      1   \n",
       "STREETS & SAN  ...     0      0      0     0     3      0     0      0      0   \n",
       "\n",
       "Hourly Rate     All  \n",
       "Department           \n",
       "All            8174  \n",
       "STREETS & SAN  1846  \n",
       "\n",
       "[2 rows x 179 columns]"
      ]
     },
     "execution_count": 23,
     "metadata": {},
     "output_type": "execute_result"
    }
   ],
   "source": [
    "# Your code here:\n",
    "data_crosstab = pd.crosstab(data['Department'], data['Hourly Rate'], margins=True) \n",
    "data_crosstab.sort_values(by='All', ascending=False).head(2)"
   ]
  },
  {
   "cell_type": "code",
   "execution_count": 24,
   "metadata": {},
   "outputs": [],
   "source": [
    "st_san = data[data['Department']=='STREETS & SAN']\n",
    "st_san = st_san[st_san['Hourly Rate'].isna()==False]\n",
    "st_san_salary = st_san['Hourly Rate']"
   ]
  },
  {
   "cell_type": "code",
   "execution_count": 25,
   "metadata": {},
   "outputs": [
    {
     "name": "stdout",
     "output_type": "stream",
     "text": [
      "confidence interval is  (35.28150811892018, 35.82308559722106) .\n"
     ]
    }
   ],
   "source": [
    "import scipy.stats\n",
    "\n",
    "confidence_level = 0.95 \n",
    "degrees_freedom = len(st_san_salary) - 1  \n",
    "sample_mean = np.mean(st_san_salary)\n",
    "sample_standard_error = scipy.stats.sem(st_san_salary)\n",
    "\n",
    "confidence_interval = scipy.stats.t.interval(confidence_level, \n",
    "                                             degrees_freedom, \n",
    "                                             sample_mean, \n",
    "                                             sample_standard_error)\n",
    "\n",
    "print( 'confidence interval is ', confidence_interval, '.' )"
   ]
  },
  {
   "cell_type": "code",
   "execution_count": 26,
   "metadata": {},
   "outputs": [
    {
     "name": "stdout",
     "output_type": "stream",
     "text": [
      "stat is   4.000138803968834\n",
      "pvalue for the two-tailed test is  6.580474443773579e-05\n",
      "pvalue for the one-tailed test is  3.2902372218867895e-05\n"
     ]
    }
   ],
   "source": [
    "from scipy.stats import ttest_1samp\n",
    "\n",
    "stat, pval = ttest_1samp(st_san_salary, 35)\n",
    "\n",
    "print('stat is  ', stat)\n",
    "print('pvalue for the two-tailed test is ', pval)\n",
    "print('pvalue for the one-tailed test is ', pval/2)"
   ]
  },
  {
   "cell_type": "markdown",
   "metadata": {},
   "source": [
    "We are also curious about salaries in the police force. The chief of police in Chicago claimed in a press briefing that salaries this year are higher than last year's mean of $86000/year a year for all salaried employees. Test this one sided hypothesis using a 95% confidence interval.\n",
    "\n",
    "Hint: A one tailed test has a p-value that is half of the two tailed p-value. If our hypothesis is greater than, then to reject, the test statistic must also be positive."
   ]
  },
  {
   "cell_type": "code",
   "execution_count": 8,
   "metadata": {},
   "outputs": [],
   "source": [
    "# Your code here:\n",
    "\n"
   ]
  },
  {
   "cell_type": "markdown",
   "metadata": {},
   "source": [
    "Using the `crosstab` function, find the department that has the most hourly workers. "
   ]
  },
  {
   "cell_type": "code",
   "execution_count": 9,
   "metadata": {},
   "outputs": [],
   "source": [
    "# Your code here:\n",
    "\n"
   ]
  },
  {
   "cell_type": "markdown",
   "metadata": {},
   "source": [
    "The workers from the department with the most hourly workers have complained that their hourly wage is less than $35/hour. Using a one sample t-test, test this one-sided hypothesis at the 95% confidence level."
   ]
  },
  {
   "cell_type": "code",
   "execution_count": 10,
   "metadata": {},
   "outputs": [],
   "source": [
    "# Your code here:\n",
    "\n"
   ]
  },
  {
   "cell_type": "markdown",
   "metadata": {},
   "source": [
    "# Challenge 3: To practice - Constructing Confidence Intervals\n",
    "\n",
    "While testing our hypothesis is a great way to gather empirical evidence for accepting or rejecting the hypothesis, another way to gather evidence is by creating a confidence interval. A confidence interval gives us information about the true mean of the population. So for a 95% confidence interval, we are 95% sure that the mean of the population is within the confidence interval. \n",
    ").\n",
    "\n",
    "To read more about confidence intervals, click [here](https://en.wikipedia.org/wiki/Confidence_interval).\n",
    "\n",
    "\n",
    "In the cell below, we will construct a 95% confidence interval for the mean hourly wage of all hourly workers. \n",
    "\n",
    "The confidence interval is computed in SciPy using the `t.interval` function. You can read more about this function [here](https://docs.scipy.org/doc/scipy-0.14.0/reference/generated/scipy.stats.t.html).\n",
    "\n",
    "To compute the confidence interval of the hourly wage, use the 0.95 for the confidence level, number of rows - 1 for degrees of freedom, the mean of the sample for the location parameter and the standard error for the scale. The standard error can be computed using [this](https://docs.scipy.org/doc/scipy/reference/generated/scipy.stats.sem.html) function in SciPy."
   ]
  },
  {
   "cell_type": "code",
   "execution_count": 11,
   "metadata": {},
   "outputs": [],
   "source": [
    "# Your code here:\n",
    "\n"
   ]
  },
  {
   "cell_type": "markdown",
   "metadata": {},
   "source": [
    "Now construct the 95% confidence interval for all salaried employeed in the police in the cell below."
   ]
  },
  {
   "cell_type": "code",
   "execution_count": 12,
   "metadata": {},
   "outputs": [],
   "source": [
    "# Your code here:\n",
    "\n"
   ]
  },
  {
   "cell_type": "markdown",
   "metadata": {},
   "source": [
    "# Bonus Challenge - Hypothesis Tests of Proportions\n",
    "\n",
    "Another type of one sample test is a hypothesis test of proportions. In this test, we examine whether the proportion of a group in our sample is significantly different than a fraction. \n",
    "\n",
    "You can read more about one sample proportion tests [here](http://sphweb.bumc.bu.edu/otlt/MPH-Modules/BS/SAS/SAS6-CategoricalData/SAS6-CategoricalData2.html).\n",
    "\n",
    "In the cell below, use the `proportions_ztest` function from `statsmodels` to perform a hypothesis test that will determine whether the number of hourly workers in the City of Chicago is significantly different from 25% at the 95% confidence level."
   ]
  },
  {
   "cell_type": "code",
   "execution_count": 13,
   "metadata": {},
   "outputs": [],
   "source": [
    "# Your code here:\n",
    "\n"
   ]
  }
 ],
 "metadata": {
  "kernelspec": {
   "display_name": "Python 3 (ipykernel)",
   "language": "python",
   "name": "python3"
  },
  "language_info": {
   "codemirror_mode": {
    "name": "ipython",
    "version": 3
   },
   "file_extension": ".py",
   "mimetype": "text/x-python",
   "name": "python",
   "nbconvert_exporter": "python",
   "pygments_lexer": "ipython3",
   "version": "3.9.13"
  }
 },
 "nbformat": 4,
 "nbformat_minor": 2
}
